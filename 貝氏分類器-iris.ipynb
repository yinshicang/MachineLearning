{
  "nbformat": 4,
  "nbformat_minor": 0,
  "metadata": {
    "colab": {
      "provenance": []
    },
    "kernelspec": {
      "name": "python3",
      "display_name": "Python 3"
    },
    "language_info": {
      "name": "python"
    }
  },
  "cells": [
    {
      "cell_type": "code",
      "execution_count": null,
      "metadata": {
        "colab": {
          "base_uri": "https://localhost:8080/"
        },
        "id": "9VKPAnvmaaAT",
        "outputId": "a3096525-9c24-46a7-a391-f1ac50697cde"
      },
      "outputs": [
        {
          "output_type": "stream",
          "name": "stdout",
          "text": [
            "訓練資料正確率: 0.9428571428571428\n",
            "測試資料正確率: 1.0\n"
          ]
        }
      ],
      "source": [
        "from sklearn.datasets import load_iris #匯入\n",
        "from sklearn.model_selection import train_test_split#切割\n",
        "from sklearn.naive_bayes import GaussianNB#貝氏分類器(Naive Bayes classifier)\n",
        "\n",
        "\n",
        "# 讀入鳶尾花資料\n",
        "iris = load_iris()\n",
        "iris_data = iris.data\n",
        "iris_label = iris.target\n",
        "\n",
        "# 切分\n",
        "\n",
        "train_data, test_data, train_label, test_label = train_test_split(iris_data, iris_label,test_size=0.3,random_state=0)\n",
        "\n",
        "# 建立分類器\n",
        "\n",
        "clf = GaussianNB()\n",
        "clf.fit(train_data,train_label)\n",
        "print(\"訓練資料正確率:\",clf.score(train_data,train_label)) # 訓練資料正確率\n",
        "print(\"測試資料正確率:\",clf.score(test_data, test_label)) # 測試資料正確率\n",
        "\n"
      ]
    }
  ]
}