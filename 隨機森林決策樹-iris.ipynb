{
  "nbformat": 4,
  "nbformat_minor": 0,
  "metadata": {
    "colab": {
      "provenance": []
    },
    "kernelspec": {
      "name": "python3",
      "display_name": "Python 3"
    },
    "language_info": {
      "name": "python"
    }
  },
  "cells": [
    {
      "cell_type": "code",
      "execution_count": null,
      "metadata": {
        "id": "G5cOJTUBUqqU",
        "colab": {
          "base_uri": "https://localhost:8080/"
        },
        "outputId": "28fe94b9-3dfe-42ea-e0be-6545a4c5e700"
      },
      "outputs": [
        {
          "output_type": "stream",
          "name": "stdout",
          "text": [
            "訓練資料正確率: 1.0\n",
            "測試資料正確率: 1.0\n"
          ]
        }
      ],
      "source": [
        "from sklearn.datasets import load_iris #匯入\n",
        "from sklearn.model_selection import train_test_split#切割\n",
        "from sklearn.ensemble import RandomForestClassifier#Keras隨機森林\\\n",
        "\n",
        "\n",
        "# 讀入鳶尾花資料\n",
        "iris = load_iris()\n",
        "iris_data = iris.data\n",
        "iris_label = iris.target\n",
        "\n",
        "# 切分\n",
        "train_data, test_data, train_label, test_label = train_test_split(iris_data, iris_label, test_size = 0.3)\n",
        "\n",
        "\n",
        "# 建立分類器\n",
        "\n",
        "clf = RandomForestClassifier(n_estimators=80, max_depth=4)#n_estimators: 森林裡要有幾棵決策樹 max_depth: 決策樹高度有幾層 max_features: 屬性採用數目\n",
        "clf.fit(train_data, train_label)\n",
        "print(\"訓練資料正確率:\",clf.score(train_data,train_label)) # 訓練資料正確率\n",
        "print(\"測試資料正確率:\",clf.score(test_data, test_label)) # 測試資料正確率\n",
        "\n"
      ]
    }
  ]
}